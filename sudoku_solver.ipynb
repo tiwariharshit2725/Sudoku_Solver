{
 "cells": [
  {
   "cell_type": "code",
   "execution_count": 1,
   "metadata": {},
   "outputs": [],
   "source": [
    "import numpy as np\n",
    "import pandas as pd\n",
    "import math\n",
    "from pysat.formula import CNF\n",
    "from pysat.solvers import Solver\n",
    "import random"
   ]
  },
  {
   "cell_type": "code",
   "execution_count": 2,
   "metadata": {},
   "outputs": [
    {
     "data": {
      "text/html": [
       "<div>\n",
       "<style scoped>\n",
       "    .dataframe tbody tr th:only-of-type {\n",
       "        vertical-align: middle;\n",
       "    }\n",
       "\n",
       "    .dataframe tbody tr th {\n",
       "        vertical-align: top;\n",
       "    }\n",
       "\n",
       "    .dataframe thead th {\n",
       "        text-align: right;\n",
       "    }\n",
       "</style>\n",
       "<table border=\"1\" class=\"dataframe\">\n",
       "  <thead>\n",
       "    <tr style=\"text-align: right;\">\n",
       "      <th></th>\n",
       "      <th>quizzes</th>\n",
       "      <th>solutions</th>\n",
       "    </tr>\n",
       "  </thead>\n",
       "  <tbody>\n",
       "    <tr>\n",
       "      <th>0</th>\n",
       "      <td>0043002090050090010700600430060020871900074000...</td>\n",
       "      <td>8643712593258497619712658434361925871986574322...</td>\n",
       "    </tr>\n",
       "    <tr>\n",
       "      <th>1</th>\n",
       "      <td>0401000501070039605200080000000000170009068008...</td>\n",
       "      <td>3461792581875239645296483719658324174729168358...</td>\n",
       "    </tr>\n",
       "    <tr>\n",
       "      <th>2</th>\n",
       "      <td>6001203840084590720000060050002640300700800069...</td>\n",
       "      <td>6951273841384596727248369158512647392739815469...</td>\n",
       "    </tr>\n",
       "    <tr>\n",
       "      <th>3</th>\n",
       "      <td>4972000001004000050000160986203000403009000000...</td>\n",
       "      <td>4972583161864397252537164986293815473759641828...</td>\n",
       "    </tr>\n",
       "    <tr>\n",
       "      <th>4</th>\n",
       "      <td>0059103080094030600275001000300002010008200070...</td>\n",
       "      <td>4659123781894735623275681497386452919548216372...</td>\n",
       "    </tr>\n",
       "    <tr>\n",
       "      <th>...</th>\n",
       "      <td>...</td>\n",
       "      <td>...</td>\n",
       "    </tr>\n",
       "    <tr>\n",
       "      <th>9995</th>\n",
       "      <td>3800000006050719800090405020400650000300200780...</td>\n",
       "      <td>3845927166253719847196485322478653915361294781...</td>\n",
       "    </tr>\n",
       "    <tr>\n",
       "      <th>9996</th>\n",
       "      <td>9200710030760800400010090050008540903500070000...</td>\n",
       "      <td>9245716835763829418316492751628543973591274684...</td>\n",
       "    </tr>\n",
       "    <tr>\n",
       "      <th>9997</th>\n",
       "      <td>0080060010530800722407109300005070600050200090...</td>\n",
       "      <td>7982364511534896722467159388295471634651237893...</td>\n",
       "    </tr>\n",
       "    <tr>\n",
       "      <th>9998</th>\n",
       "      <td>0270060004090001070004000530040500068900000403...</td>\n",
       "      <td>5271364984395821671864792532749583168956137423...</td>\n",
       "    </tr>\n",
       "    <tr>\n",
       "      <th>9999</th>\n",
       "      <td>3000000490800760101002005807000512000090280010...</td>\n",
       "      <td>3268157494859763121972435867436512986597284318...</td>\n",
       "    </tr>\n",
       "  </tbody>\n",
       "</table>\n",
       "<p>10000 rows × 2 columns</p>\n",
       "</div>"
      ],
      "text/plain": [
       "                                                quizzes  \\\n",
       "0     0043002090050090010700600430060020871900074000...   \n",
       "1     0401000501070039605200080000000000170009068008...   \n",
       "2     6001203840084590720000060050002640300700800069...   \n",
       "3     4972000001004000050000160986203000403009000000...   \n",
       "4     0059103080094030600275001000300002010008200070...   \n",
       "...                                                 ...   \n",
       "9995  3800000006050719800090405020400650000300200780...   \n",
       "9996  9200710030760800400010090050008540903500070000...   \n",
       "9997  0080060010530800722407109300005070600050200090...   \n",
       "9998  0270060004090001070004000530040500068900000403...   \n",
       "9999  3000000490800760101002005807000512000090280010...   \n",
       "\n",
       "                                              solutions  \n",
       "0     8643712593258497619712658434361925871986574322...  \n",
       "1     3461792581875239645296483719658324174729168358...  \n",
       "2     6951273841384596727248369158512647392739815469...  \n",
       "3     4972583161864397252537164986293815473759641828...  \n",
       "4     4659123781894735623275681497386452919548216372...  \n",
       "...                                                 ...  \n",
       "9995  3845927166253719847196485322478653915361294781...  \n",
       "9996  9245716835763829418316492751628543973591274684...  \n",
       "9997  7982364511534896722467159388295471634651237893...  \n",
       "9998  5271364984395821671864792532749583168956137423...  \n",
       "9999  3268157494859763121972435867436512986597284318...  \n",
       "\n",
       "[10000 rows x 2 columns]"
      ]
     },
     "execution_count": 2,
     "metadata": {},
     "output_type": "execute_result"
    }
   ],
   "source": [
    "data=pd.read_csv(\"sudoku.csv\")\n",
    "data"
   ]
  },
  {
   "cell_type": "code",
   "execution_count": 3,
   "metadata": {},
   "outputs": [],
   "source": [
    "num=np.random.randint(0,10000)\n",
    "a=str(data['quizzes'][num])"
   ]
  },
  {
   "cell_type": "code",
   "execution_count": 4,
   "metadata": {},
   "outputs": [],
   "source": [
    "sudoku=np.zeros([9,9],dtype=int)"
   ]
  },
  {
   "cell_type": "code",
   "execution_count": 5,
   "metadata": {},
   "outputs": [
    {
     "data": {
      "text/plain": [
       "array([[9, 0, 6, 5, 0, 3, 0, 0, 0],\n",
       "       [1, 4, 0, 0, 6, 0, 0, 5, 0],\n",
       "       [0, 0, 3, 0, 4, 0, 8, 7, 0],\n",
       "       [0, 5, 4, 9, 7, 0, 0, 0, 2],\n",
       "       [0, 3, 0, 6, 0, 1, 4, 0, 8],\n",
       "       [8, 1, 9, 0, 0, 0, 0, 0, 0],\n",
       "       [0, 0, 0, 0, 0, 5, 0, 3, 0],\n",
       "       [2, 8, 7, 0, 0, 0, 0, 0, 9],\n",
       "       [0, 0, 0, 4, 2, 0, 6, 0, 1]])"
      ]
     },
     "execution_count": 5,
     "metadata": {},
     "output_type": "execute_result"
    }
   ],
   "source": [
    "for i in range(9):\n",
    "    for j in range(9):\n",
    "        sudoku[i][j]=int(a[i*9+j])\n",
    "        \n",
    "sudoku"
   ]
  },
  {
   "cell_type": "code",
   "execution_count": 6,
   "metadata": {},
   "outputs": [],
   "source": [
    "def mod(n,m):\n",
    "    if n%m==0:\n",
    "        return m\n",
    "    else:\n",
    "        return n%m"
   ]
  },
  {
   "cell_type": "code",
   "execution_count": 7,
   "metadata": {},
   "outputs": [],
   "source": [
    "s=Solver()"
   ]
  },
  {
   "cell_type": "code",
   "execution_count": 8,
   "metadata": {},
   "outputs": [],
   "source": [
    "r0=[]\n",
    "for i in range(9):\n",
    "    for j in range(9):\n",
    "        if sudoku[i][j]!=0:\n",
    "            for k in range(1,10):\n",
    "                if i*9*9+j*9+k!=i*9*9+j*9+sudoku[i][j]:\n",
    "                    r0.append(-1*(i*9*9+j*9+k))\n",
    "                else:\n",
    "                    r0.append(i*9*9+j*9+int(sudoku[i][j]))\n",
    "\n"
   ]
  },
  {
   "cell_type": "code",
   "execution_count": 9,
   "metadata": {},
   "outputs": [],
   "source": [
    "li=[]\n",
    "cnf1=CNF()\n",
    "for i in range(1,9*9*9+1):\n",
    "    li.append(i)\n",
    "    if i%9==0:\n",
    "        cnf1.append(li)\n",
    "        s.add_clause(li)\n",
    "        li=[]"
   ]
  },
  {
   "cell_type": "code",
   "execution_count": 10,
   "metadata": {},
   "outputs": [],
   "source": [
    "cnf2=CNF()\n",
    "li1=[]\n",
    "for i in range(9):\n",
    "    for j in range(9):\n",
    "        for k in range(1,10):\n",
    "            for l in range(k+1,10):\n",
    "                li1=[(-1*(i*9*9+j*9+k))]\n",
    "                li1.append(-1*(i*9*9+j*9+l))\n",
    "                cnf2.append(li1)\n",
    "                s.add_clause(li1)\n",
    "                              "
   ]
  },
  {
   "cell_type": "code",
   "execution_count": 11,
   "metadata": {},
   "outputs": [],
   "source": [
    "r1=[]\n",
    "for i in range(1,(9*9)*(9*9)+1):\n",
    "    a1=math.ceil(i/(9*9))\n",
    "    b1=mod(i,9*9)\n",
    "    row_a=math.ceil(a1/9)\n",
    "    row_b=math.ceil(b1/9)\n",
    "    col_a=mod(a1,9)\n",
    "    col_b=mod(b1,9)\n",
    "    block_row_a=math.ceil(row_a/3)\n",
    "    block_col_a=math.ceil(col_a/3)\n",
    "    block_row_b=math.ceil(row_b/3)\n",
    "    block_col_b=math.ceil(col_b/3)\n",
    "    if row_a==row_b:\n",
    "        r1.append(9*9*9+i)\n",
    "    elif col_a==col_b:\n",
    "        r1.append(9*9*9+i)\n",
    "    elif (block_row_a==block_row_b) and (block_col_a==block_col_b):\n",
    "        r1.append(9*9*9+i)"
   ]
  },
  {
   "cell_type": "code",
   "execution_count": 12,
   "metadata": {},
   "outputs": [],
   "source": [
    "cnf3=CNF()\n",
    "li2=[]\n",
    "for i in r1:\n",
    "    i=i-729\n",
    "    a1=math.ceil(i/(9*9))\n",
    "    b1=mod(i,9*9)\n",
    "    row_a=math.ceil(a1/9)\n",
    "    row_b=math.ceil(b1/9)\n",
    "    col_a=mod(a1,9)\n",
    "    col_b=mod(b1,9)\n",
    "    block_row_a=math.ceil(row_a/3)\n",
    "    block_col_a=math.ceil(col_a/3)\n",
    "    block_row_b=math.ceil(row_b/3)\n",
    "    block_col_b=math.ceil(col_b/3)\n",
    "    for j in range(1,10):\n",
    "        if a1!=b1:\n",
    "            li2.append(-1*((row_a-1)*9*9+(col_a-1)*9+j))\n",
    "            li2.append(-1*((row_b-1)*9*9+(col_b-1)*9+j))\n",
    "            cnf3.append(li2)\n",
    "            s.add_clause(li2)\n",
    "            li2=[]"
   ]
  },
  {
   "cell_type": "code",
   "execution_count": 13,
   "metadata": {},
   "outputs": [],
   "source": [
    "final_assumption_list=[]\n",
    "for i in r0:\n",
    "    final_assumption_list.append(int(i))"
   ]
  },
  {
   "cell_type": "code",
   "execution_count": 14,
   "metadata": {},
   "outputs": [
    {
     "data": {
      "text/plain": [
       "True"
      ]
     },
     "execution_count": 14,
     "metadata": {},
     "output_type": "execute_result"
    }
   ],
   "source": [
    "s.solve(assumptions=final_assumption_list)"
   ]
  },
  {
   "cell_type": "code",
   "execution_count": 15,
   "metadata": {},
   "outputs": [],
   "source": [
    "arr1=s.get_model()"
   ]
  },
  {
   "cell_type": "code",
   "execution_count": 16,
   "metadata": {},
   "outputs": [],
   "source": [
    "arr2=[]\n",
    "for i in range(9*9*9):\n",
    "    arr2.append(arr1[i])"
   ]
  },
  {
   "cell_type": "code",
   "execution_count": 17,
   "metadata": {},
   "outputs": [],
   "source": [
    "arr=np.zeros([9,9],dtype=int)\n",
    "z=0\n",
    "row=0\n",
    "col=0\n",
    "for i in arr2:\n",
    "    if i>0:\n",
    "        row=math.ceil(i/(9*9))-1\n",
    "        col=math.ceil(mod(i,9*9)/9)-1\n",
    "        arr[row][col]=mod(mod(i,9*9),9)"
   ]
  },
  {
   "cell_type": "code",
   "execution_count": 18,
   "metadata": {},
   "outputs": [
    {
     "data": {
      "text/plain": [
       "array([[9, 7, 6, 5, 8, 3, 1, 2, 4],\n",
       "       [1, 4, 8, 7, 6, 2, 9, 5, 3],\n",
       "       [5, 2, 3, 1, 4, 9, 8, 7, 6],\n",
       "       [6, 5, 4, 9, 7, 8, 3, 1, 2],\n",
       "       [7, 3, 2, 6, 5, 1, 4, 9, 8],\n",
       "       [8, 1, 9, 2, 3, 4, 7, 6, 5],\n",
       "       [4, 6, 1, 8, 9, 5, 2, 3, 7],\n",
       "       [2, 8, 7, 3, 1, 6, 5, 4, 9],\n",
       "       [3, 9, 5, 4, 2, 7, 6, 8, 1]])"
      ]
     },
     "execution_count": 18,
     "metadata": {},
     "output_type": "execute_result"
    }
   ],
   "source": [
    "sudoku1_sol=arr\n",
    "sudoku1_sol"
   ]
  }
 ],
 "metadata": {
  "kernelspec": {
   "display_name": "Python 3",
   "language": "python",
   "name": "python3"
  },
  "language_info": {
   "codemirror_mode": {
    "name": "ipython",
    "version": 3
   },
   "file_extension": ".py",
   "mimetype": "text/x-python",
   "name": "python",
   "nbconvert_exporter": "python",
   "pygments_lexer": "ipython3",
   "version": "3.8.5"
  }
 },
 "nbformat": 4,
 "nbformat_minor": 4
}
